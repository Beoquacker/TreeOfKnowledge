{
  "nbformat": 4,
  "nbformat_minor": 0,
  "metadata": {
    "colab": {
      "provenance": []
    },
    "kernelspec": {
      "name": "python3",
      "display_name": "Python 3"
    },
    "language_info": {
      "name": "python"
    }
  },
  "cells": [
    {
      "cell_type": "code",
      "execution_count": null,
      "metadata": {
        "id": "2QpNRin9FOxP"
      },
      "outputs": [],
      "source": [
        "import numpy as np\n",
        "import torch\n",
        "import matplotlib.pyplot as plt"
      ]
    },
    {
      "cell_type": "code",
      "source": [
        "from pydrive.auth import GoogleAuth\n",
        "from pydrive.drive import GoogleDrive\n",
        "from google.colab import auth"
      ],
      "metadata": {
        "id": "SQeswHEbFX3m"
      },
      "execution_count": null,
      "outputs": []
    },
    {
      "cell_type": "code",
      "source": [
        "EPSILON = 1 # epsilon sets the length of boxes, default 1\n",
        "dim = 9 # dim is the number of embeddings' dimension, default 9"
      ],
      "metadata": {
        "id": "FxkKx9eyFfyV"
      },
      "execution_count": 21,
      "outputs": []
    },
    {
      "cell_type": "code",
      "source": [
        "rawdata = np.load('sample_data/english_newlit_SVD_dict.npy', allow_pickle=True)[()]\n",
        "# choose any other dictionary of a language"
      ],
      "metadata": {
        "id": "rXjEADJnDEGD"
      },
      "execution_count": 8,
      "outputs": []
    },
    {
      "cell_type": "code",
      "source": [
        "rawdata['cat']"
      ],
      "metadata": {
        "colab": {
          "base_uri": "https://localhost:8080/"
        },
        "id": "ofpALyuyHKGz",
        "outputId": "14add4f2-16f4-4933-c142-0f68864af64e"
      },
      "execution_count": 23,
      "outputs": [
        {
          "output_type": "execute_result",
          "data": {
            "text/plain": [
              "array([ 0.01679443,  0.00414149, -0.01409523,  0.00645458, -0.00607685,\n",
              "        0.0022039 , -0.00080252, -0.01132439,  0.04173432,  0.02197117,\n",
              "        0.00837969,  0.00269821,  0.0148389 ,  0.00303758, -0.00176646,\n",
              "       -0.0859572 ])"
            ]
          },
          "metadata": {},
          "execution_count": 23
        }
      ]
    },
    {
      "cell_type": "code",
      "source": [
        "rawdata['cat'][-dim:]"
      ],
      "metadata": {
        "colab": {
          "base_uri": "https://localhost:8080/"
        },
        "id": "tSOGLBeXYwW0",
        "outputId": "fe287b76-ae32-43d8-9088-6d46338d34d0"
      },
      "execution_count": 22,
      "outputs": [
        {
          "output_type": "execute_result",
          "data": {
            "text/plain": [
              "array([-0.01132439,  0.04173432,  0.02197117,  0.00837969,  0.00269821,\n",
              "        0.0148389 ,  0.00303758, -0.00176646, -0.0859572 ])"
            ]
          },
          "metadata": {},
          "execution_count": 22
        }
      ]
    },
    {
      "cell_type": "code",
      "source": [
        "len(rawdata)"
      ],
      "metadata": {
        "colab": {
          "base_uri": "https://localhost:8080/"
        },
        "id": "bb11Ei3fGnot",
        "outputId": "282cc0d1-f206-4a4e-fa89-f02c6ba54eed"
      },
      "execution_count": 19,
      "outputs": [
        {
          "output_type": "execute_result",
          "data": {
            "text/plain": [
              "96582"
            ]
          },
          "metadata": {},
          "execution_count": 19
        }
      ]
    },
    {
      "cell_type": "code",
      "source": [
        "datapoints = torch.zeros([len(rawdata), dim])"
      ],
      "metadata": {
        "id": "-8brXCQQGi3x"
      },
      "execution_count": 53,
      "outputs": []
    },
    {
      "cell_type": "code",
      "source": [
        "for i, (k, v) in enumerate(rawdata.items()):\n",
        "  datapoints[i] = torch.tensor(v[-dim:])"
      ],
      "metadata": {
        "id": "FibrNUy8Fyqt"
      },
      "execution_count": 54,
      "outputs": []
    },
    {
      "cell_type": "code",
      "source": [
        "datapoints[0]"
      ],
      "metadata": {
        "colab": {
          "base_uri": "https://localhost:8080/"
        },
        "id": "KOGs8By2JXGh",
        "outputId": "904bfe24-f341-4cfe-a195-56af839026da"
      },
      "execution_count": 58,
      "outputs": [
        {
          "output_type": "execute_result",
          "data": {
            "text/plain": [
              "tensor([ 1.7509e-04,  1.5773e-04, -7.5267e-05,  2.4380e-04,  1.4749e-04,\n",
              "         4.4278e-04,  4.2872e-04, -6.8720e-05, -5.3378e-04])"
            ]
          },
          "metadata": {},
          "execution_count": 58
        }
      ]
    },
    {
      "cell_type": "code",
      "source": [
        "# the mins and maxes are needed to create 'a boundary of the language'"
      ],
      "metadata": {
        "id": "ZRDa1tJFK1xA"
      },
      "execution_count": null,
      "outputs": []
    },
    {
      "cell_type": "code",
      "source": [
        "mins = torch.tensor([10000 for i in range(dim)])\n",
        "for i in range(len(datapoints)):\n",
        "  mins = np.minimum(mins, datapoints[i])\n",
        "mins"
      ],
      "metadata": {
        "colab": {
          "base_uri": "https://localhost:8080/"
        },
        "id": "5C8uWKdVZUi4",
        "outputId": "00737b9d-7d2c-4f84-cf9b-7886fd1a5967"
      },
      "execution_count": 59,
      "outputs": [
        {
          "output_type": "execute_result",
          "data": {
            "text/plain": [
              "tensor([ -4.2081,  -2.2523,  -3.9531,  -3.2601,  -2.8331,  -4.1316,  -2.8022,\n",
              "        -11.7184, -61.3082], dtype=torch.float64)"
            ]
          },
          "metadata": {},
          "execution_count": 59
        }
      ]
    },
    {
      "cell_type": "code",
      "source": [
        "maxs = torch.tensor([-10000 for i in range(dim)])\n",
        "for i in range(len(datapoints)):\n",
        "  maxs = np.maximum(maxs, datapoints[i])\n",
        "maxs"
      ],
      "metadata": {
        "colab": {
          "base_uri": "https://localhost:8080/"
        },
        "id": "M6_pIe6dZHna",
        "outputId": "d499dcd4-b092-4b08-8ede-36c89846a365"
      },
      "execution_count": 60,
      "outputs": [
        {
          "output_type": "execute_result",
          "data": {
            "text/plain": [
              "tensor([ 1.3984e+00,  2.1375e+00,  4.1896e+00,  4.2405e+00,  4.7449e+00,\n",
              "         3.3393e+00,  1.3635e+01,  9.4065e+00, -4.4903e-06],\n",
              "       dtype=torch.float64)"
            ]
          },
          "metadata": {},
          "execution_count": 60
        }
      ]
    },
    {
      "cell_type": "code",
      "source": [
        "[int(np.ceil((maxs[i] - mins[i])/1)) for i in range(dim)]"
      ],
      "metadata": {
        "colab": {
          "base_uri": "https://localhost:8080/"
        },
        "id": "9BjZ6IiOctcH",
        "outputId": "336449a5-7240-4337-fec2-e74dd9a94dcd"
      },
      "execution_count": 61,
      "outputs": [
        {
          "output_type": "execute_result",
          "data": {
            "text/plain": [
              "[6, 5, 9, 8, 8, 8, 17, 22, 62]"
            ]
          },
          "metadata": {},
          "execution_count": 61
        }
      ]
    },
    {
      "cell_type": "code",
      "source": [
        "def box_counting(dims=9, dataset=torch.zeros(1,dim), epsilon=1):\n",
        "  boxes = dict()\n",
        "  for el in dataset:\n",
        "    mod_coords = str(torch.Tensor.int(np.floor((el)/epsilon)).tolist())\n",
        "    if boxes.get(mod_coords):\n",
        "      boxes[mod_coords] += 1\n",
        "    else:\n",
        "      boxes[mod_coords] = 1\n",
        "  return(boxes)"
      ],
      "metadata": {
        "id": "YBLnByCrZ1y_"
      },
      "execution_count": 62,
      "outputs": []
    },
    {
      "cell_type": "code",
      "source": [
        "final_boxes = box_counting(dim, mins, maxs, datapoints, EPSILON)"
      ],
      "metadata": {
        "id": "fivIi3lyiidi"
      },
      "execution_count": 65,
      "outputs": []
    },
    {
      "cell_type": "code",
      "source": [
        "point = str(torch.Tensor.int(np.floor((datapoints[0])/EPSILON)).tolist())\n",
        "final_boxes[point]\n",
        "# example: how many points are in the same box as the first word in the dataset"
      ],
      "metadata": {
        "id": "Ov9Uq7dSm6-g",
        "colab": {
          "base_uri": "https://localhost:8080/"
        },
        "outputId": "07f1c61b-578a-4792-9908-e5ba595f58fd"
      },
      "execution_count": 75,
      "outputs": [
        {
          "output_type": "execute_result",
          "data": {
            "text/plain": [
              "1929"
            ]
          },
          "metadata": {},
          "execution_count": 75
        }
      ]
    },
    {
      "cell_type": "code",
      "source": [],
      "metadata": {
        "id": "eyYRxs_sKtXy"
      },
      "execution_count": null,
      "outputs": []
    }
  ]
}